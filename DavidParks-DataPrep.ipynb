{
 "cells": [
  {
   "cell_type": "markdown",
   "metadata": {},
   "source": [
    "# Milestone 1 Assignment - Capstone Proposal\n",
    "\n",
    "## Author - David Parks"
   ]
  },
  {
   "cell_type": "markdown",
   "metadata": {},
   "source": [
    "### Capstone Project Instructions\n",
    "Select a problem and data sets of particular interest and apply the analytics process to find and report on a solution.\n",
    "\n",
    "Students will construct a simple dashboard to allow a non-technical user to explore their solution. The data should be read from a suitable persistent data storage, such as an Internet URL or a SQL data base.\n",
    "\n",
    "The process followed by the students and the grading criteria include:\n",
    "<ol style=\"list-style-type: lower-alpha;\">\n",
    "<li>Understand the business problem <span class=\"label\" style=\"border-radius: 3px; background-color: darkcyan; color: white;\">Milestone 1</span></li>\n",
    "<li>Evaluate and explore the available data <span class=\"label\" style=\"border-radius: 3px; background-color: darkcyan; color: white;\">Milestone 1</span></li>\n",
    "<li>Proper data preparation <span class=\"label\" style=\"border-radius: 3px; background-color: darkcyan; color: white;\">Milestone 1</span> <span class=\"label\" style=\"border-radius: 3px; background-color: royalblue; color: white;\">Milestone 2</span></li>\n",
    "<li>Exploration of data and understand relationships <span class=\"label\" style=\"border-radius: 3px; background-color: darkcyan; color: white;\">Milestone 1</span> <span class=\"label\" style=\"border-radius: 3px; background-color: royalblue; color: white;\">Milestone 2</span></li>\n",
    "<li>Perform basic analytics and machine learning, within the scope of the course, on the data.  <span class=\"label\" style=\"border-radius: 3px; background-color: royalblue; color: white;\">Milestone 2</span> <span class=\"label\" style=\"border-radius: 3px; background-color: slateblue; color: white;\">Milestone 3</span> <BR/>For example, classification to predict which employees are most likely to leave the company.</li>\n",
    "<li>Create a written and/or oral report on the results suitable for a non-technical audience. <span class=\"label\" style=\"border-radius: 3px; background-color: slateblue; color: white;\">Milestone 3</span></li>\n",
    "</ol>\n",
    "\n",
    "\n"
   ]
  },
  {
   "cell_type": "markdown",
   "metadata": {},
   "source": [
    "## Tasks\n",
    "For this proposal, you are to:\n",
    "1. Generate or describe a solvable business problem and outline the flow of data needed to address the problem.\n",
    "2. Identify 2 or more available data sets\n",
    "3. Report on the statistics of each data set to include: type, unique values, missing values, quantile statistics, descriptive statistics, most frequent values, and histogram. Include analysis statements based on results.\n",
    "4. Perform data preparation based on analysis of the quality of the available data include concatenation method, imputation method(s), dealing with outliers, and binning/scaling transformation.\n",
    "5. Output the resulting data into a new data file\n",
    "6. Identify potential machine learning model(s)\n"
   ]
  },
  {
   "cell_type": "markdown",
   "metadata": {},
   "source": [
    "## Problem Definition\n",
    "\n"
   ]
  },
  {
   "cell_type": "markdown",
   "metadata": {},
   "source": [
    "### Overview\n",
    "\n",
    "The Stack Exchange network is a top resource for question and answer resource sharing.  Stack Overflow, targeted to programmers and developers is the top exchange with 9m visits/day and almost 7k questions posted per day <sup>1</sup>.  Users can subscribe to receive notifications for questions posted to specific topics (tags), but users who cross over a number of topics can quickly get overwhelmed by the amount of data coming through.  \n",
    "\n",
    "The BigQuery Stack Overflow dataset<sup>2</sup> shows 46.7% of questions not having an accepted answer as of the start of June.  While some questions can be assumed to be obscure, non-reproducible, or vague, developers not receiving timely help on questions lowers productivity and can not only slow innovation, but also have major financial impacts on corporations.\n",
    "\n",
    "### Proposed Solution\n",
    "\n",
    "Our goal is to create a machine learning model that given how a user has answered questions in the past, can propose other questions the user might know the answer to.  Such a model can be used either on the Stack Exchange network, or internally in corporations, to suggest related questions to users.\n",
    "\n",
    "###  Approach\n",
    "\n",
    "To solve this problem, a few methodologies from data science may be employed.  Foremost, natural language processing (NLP) can be employed to investigate the content of questions and answers to create context that tags alone cannot give.  We will combine that with a number of other available features which we will then reduce to the most salient features for the model.  UV Decomposition might make a good approach.  With the most relevant features, we can explore a number of modeling approaches to compare their performance.  For this we will likely explore decision trees and clustering.  The end goal is to compare a content-based recommendation system with a collaborative filtering system.\n",
    "\n",
    "### Data Sources\n",
    "\n",
    "The main source for the data is stack overflow dataset stored on Google BigQuery.  The tables are updated quarterly from the archive.org data<sup>3</sup>.  We have a defined SQL query to join the needed data from BigQuery and export that as a csv.  \n",
    "\n",
    "That data is supplemented with data from the Stack Exchange API<sup>4</sup>.\n",
    "\n",
    "### Data Flow\n"
   ]
  },
  {
   "cell_type": "code",
   "execution_count": 1,
   "metadata": {},
   "outputs": [
    {
     "data": {
      "text/html": [
       "<div style=\"width: 640px; height: 480px; margin: 10px; position: relative;\"><iframe allowfullscreen frameborder=\"0\" style=\"width:640px; height:480px\" src=\"https://www.lucidchart.com/documents/embeddedchart/261f244b-5a9a-42c3-a8f8-26b08bbc4406\" id=\"5mSW9PuRq1lc\"></iframe></div>"
      ],
      "text/plain": [
       "<IPython.core.display.HTML object>"
      ]
     },
     "metadata": {},
     "output_type": "display_data"
    }
   ],
   "source": [
    "from IPython.core.display import display, HTML\n",
    "\n",
    "display(HTML('<div style=\"width: 640px; height: 480px; margin: 10px; position: relative;\"><iframe allowfullscreen frameborder=\"0\" style=\"width:640px; height:480px\" src=\"https://www.lucidchart.com/documents/embeddedchart/261f244b-5a9a-42c3-a8f8-26b08bbc4406\" id=\"5mSW9PuRq1lc\"></iframe></div>'))"
   ]
  },
  {
   "cell_type": "markdown",
   "metadata": {},
   "source": [
    "### Resources\n",
    "\n",
    "<sup>1</sup> https://stackexchange.com/sites?view=list#traffic<br/>\n",
    "<sup>2</sup> https://cloud.google.com/bigquery/public-data/stackoverflow last updated: 6/3/2018<br/>\n",
    "<sup>3</sup> https://archive.org/download/stackexchange<br/>\n",
    "<sup>4</sup> https://api.stackexchange.com/<br/>"
   ]
  },
  {
   "cell_type": "markdown",
   "metadata": {},
   "source": [
    "## Data Sets and Imports"
   ]
  },
  {
   "cell_type": "code",
   "execution_count": 2,
   "metadata": {},
   "outputs": [],
   "source": [
    "# Datasets location\n",
    "\n",
    "# Answers\n",
    "ans_urls = [\n",
    "    \"https://storage.googleapis.com/stackex-recommender/stackex_answers_000000000000.csv\",\n",
    "#     \"https://storage.googleapis.com/stackex-recommender/stackex_answers_000000000001.csv\",\n",
    "#     \"https://storage.googleapis.com/stackex-recommender/stackex_answers_000000000002.csv\",\n",
    "#     \"https://storage.googleapis.com/stackex-recommender/stackex_answers_000000000003.csv\",\n",
    "#     \"https://storage.googleapis.com/stackex-recommender/stackex_answers_000000000004.csv\"\n",
    "]\n",
    "    \n",
    "# Questions\n",
    "ques_url = \"https://storage.googleapis.com/stackex-recommender/stackex_questions.csv\"\n",
    "\n",
    "\n",
    "# BigQuery Data\n",
    "bq_data = 'https://storage.googleapis.com/stackex/stackex-full.csv'\n",
    "\n",
    "# Stack Exchange API\n",
    "user_data = 'https://storage.googleapis.com/stackex/users_basic_info.csv'\n",
    "answer_data = \"https://storage.googleapis.com/stackex/top_answer_tags.csv\"\n",
    "question_data = \"https://storage.googleapis.com/stackex/top_questions_tags.csv\""
   ]
  },
  {
   "cell_type": "code",
   "execution_count": 11,
   "metadata": {},
   "outputs": [],
   "source": [
    "#!pip install nltk --upgrade"
   ]
  },
  {
   "cell_type": "code",
   "execution_count": 3,
   "metadata": {},
   "outputs": [],
   "source": [
    "# Import libraries\n",
    "import pandas as pd\n",
    "import numpy as np\n",
    "import scipy\n",
    "import pandas_profiling\n",
    "import matplotlib.pyplot as plt\n",
    "import seaborn as sns\n",
    "import nltk\n",
    "from nltk.corpus import stopwords\n",
    "from nltk.tokenize import word_tokenize\n",
    "from nltk.stem.wordnet import WordNetLemmatizer\n",
    "import re"
   ]
  },
  {
   "cell_type": "code",
   "execution_count": 4,
   "metadata": {},
   "outputs": [
    {
     "name": "stdout",
     "output_type": "stream",
     "text": [
      "[nltk_data] Downloading package stopwords to /home/ash/nltk_data...\n",
      "[nltk_data]   Package stopwords is already up-to-date!\n",
      "[nltk_data] Downloading package punkt to /home/ash/nltk_data...\n",
      "[nltk_data]   Package punkt is already up-to-date!\n",
      "[nltk_data] Downloading package wordnet to /home/ash/nltk_data...\n",
      "[nltk_data]   Package wordnet is already up-to-date!\n"
     ]
    },
    {
     "data": {
      "text/plain": [
       "True"
      ]
     },
     "execution_count": 4,
     "metadata": {},
     "output_type": "execute_result"
    }
   ],
   "source": [
    "# Matplotlib setup\n",
    "%matplotlib inline\n",
    "sns.set()\n",
    "\n",
    "nltk.download('stopwords')\n",
    "nltk.download('punkt')\n",
    "nltk.download('wordnet')"
   ]
  },
  {
   "cell_type": "markdown",
   "metadata": {},
   "source": [
    "## Functions"
   ]
  },
  {
   "cell_type": "code",
   "execution_count": 19,
   "metadata": {},
   "outputs": [],
   "source": [
    "def not_symbol(token):\n",
    "    return re.match(r'\\w+', token)\n",
    "\n",
    "def not_stop_words(token):\n",
    "    return token.lower() not in stopwords.words('english')\n",
    "\n",
    "def clean(tokens):\n",
    "    clean_tokens = []\n",
    "    for token in tokens:\n",
    "        if not_stop_words(token) and not_symbol(token):\n",
    "            clean_tokens.append(token.lower())\n",
    "            \n",
    "    return clean_tokens\n",
    "\n",
    "def clean_text(df, cols):\n",
    "    for col in cols:\n",
    "        vals = df[col]\n",
    "        # -- tokenize\n",
    "        vals = vals.apply(word_tokenize)\n",
    "        # -- clean\n",
    "        vals = vals.apply(clean)\n",
    "        vals.head(2)"
   ]
  },
  {
   "cell_type": "markdown",
   "metadata": {},
   "source": [
    "## Data Imports and Joins"
   ]
  },
  {
   "cell_type": "code",
   "execution_count": 5,
   "metadata": {},
   "outputs": [],
   "source": [
    "# Load Datasets\n",
    "\n",
    "cols = ['randkey', 'answer_id', 'answer_body', 'answer_comments', 'answer_creation_date', 'answer_owner_id', 'answer_parent_id', 'answer_post_type_id', 'answer_score']\n",
    "df = pd.DataFrame(columns=cols)\n",
    "for url in ans_urls:\n",
    "    df = df.append(pd.read_csv(url, infer_datetime_format=True))\n",
    "\n",
    "df_questions = pd.read_csv(ques_url)\n",
    "\n",
    "# df_bq.set_index('answer_id', drop=False, inplace=True)"
   ]
  },
  {
   "cell_type": "code",
   "execution_count": 6,
   "metadata": {},
   "outputs": [
    {
     "data": {
      "text/html": [
       "<div>\n",
       "<style scoped>\n",
       "    .dataframe tbody tr th:only-of-type {\n",
       "        vertical-align: middle;\n",
       "    }\n",
       "\n",
       "    .dataframe tbody tr th {\n",
       "        vertical-align: top;\n",
       "    }\n",
       "\n",
       "    .dataframe thead th {\n",
       "        text-align: right;\n",
       "    }\n",
       "</style>\n",
       "<table border=\"1\" class=\"dataframe\">\n",
       "  <thead>\n",
       "    <tr style=\"text-align: right;\">\n",
       "      <th></th>\n",
       "      <th>randkey</th>\n",
       "      <th>answer_id</th>\n",
       "      <th>answer_body</th>\n",
       "      <th>answer_comments</th>\n",
       "      <th>answer_creation_date</th>\n",
       "      <th>answer_owner_id</th>\n",
       "      <th>answer_parent_id</th>\n",
       "      <th>answer_post_type_id</th>\n",
       "      <th>answer_score</th>\n",
       "    </tr>\n",
       "  </thead>\n",
       "  <tbody>\n",
       "    <tr>\n",
       "      <th>0</th>\n",
       "      <td>0.18</td>\n",
       "      <td>8108420</td>\n",
       "      <td>&lt;p&gt;One of the variants:&lt;/p&gt;\\n\\n&lt;pre&gt;&lt;code&gt;var ...</td>\n",
       "      <td>0</td>\n",
       "      <td>2011-11-12 23:40:39.303 UTC</td>\n",
       "      <td>614425</td>\n",
       "      <td>8108346</td>\n",
       "      <td>2</td>\n",
       "      <td>1</td>\n",
       "    </tr>\n",
       "    <tr>\n",
       "      <th>1</th>\n",
       "      <td>0.17</td>\n",
       "      <td>2248279</td>\n",
       "      <td>&lt;p&gt;I like your idea of placing the QUnit tests...</td>\n",
       "      <td>1</td>\n",
       "      <td>2010-02-11 22:32:24.32 UTC</td>\n",
       "      <td>14934</td>\n",
       "      <td>1576197</td>\n",
       "      <td>2</td>\n",
       "      <td>17</td>\n",
       "    </tr>\n",
       "  </tbody>\n",
       "</table>\n",
       "</div>"
      ],
      "text/plain": [
       "   randkey answer_id                                        answer_body  \\\n",
       "0     0.18   8108420  <p>One of the variants:</p>\\n\\n<pre><code>var ...   \n",
       "1     0.17   2248279  <p>I like your idea of placing the QUnit tests...   \n",
       "\n",
       "  answer_comments         answer_creation_date answer_owner_id  \\\n",
       "0               0  2011-11-12 23:40:39.303 UTC          614425   \n",
       "1               1   2010-02-11 22:32:24.32 UTC           14934   \n",
       "\n",
       "  answer_parent_id answer_post_type_id answer_score  \n",
       "0          8108346                   2            1  \n",
       "1          1576197                   2           17  "
      ]
     },
     "execution_count": 6,
     "metadata": {},
     "output_type": "execute_result"
    }
   ],
   "source": [
    "# Preview BigQuery Data  #TODO: The date cols are still not reading in as proper dates.\n",
    "# print(df_bq.dtypes)\n",
    "df.head(2)"
   ]
  },
  {
   "cell_type": "code",
   "execution_count": 7,
   "metadata": {},
   "outputs": [
    {
     "data": {
      "text/html": [
       "<div>\n",
       "<style scoped>\n",
       "    .dataframe tbody tr th:only-of-type {\n",
       "        vertical-align: middle;\n",
       "    }\n",
       "\n",
       "    .dataframe tbody tr th {\n",
       "        vertical-align: top;\n",
       "    }\n",
       "\n",
       "    .dataframe thead th {\n",
       "        text-align: right;\n",
       "    }\n",
       "</style>\n",
       "<table border=\"1\" class=\"dataframe\">\n",
       "  <thead>\n",
       "    <tr style=\"text-align: right;\">\n",
       "      <th></th>\n",
       "      <th>answer_parent_id</th>\n",
       "      <th>question_id</th>\n",
       "      <th>question_tile</th>\n",
       "      <th>accepted_answer_id</th>\n",
       "      <th>answer_count</th>\n",
       "      <th>question_owner_id</th>\n",
       "      <th>question_tags</th>\n",
       "    </tr>\n",
       "  </thead>\n",
       "  <tbody>\n",
       "    <tr>\n",
       "      <th>0</th>\n",
       "      <td>14058116</td>\n",
       "      <td>14058116</td>\n",
       "      <td>Confirm postback OnClientClick button ASP.NET</td>\n",
       "      <td>14058202.0</td>\n",
       "      <td>10</td>\n",
       "      <td>1918542.0</td>\n",
       "      <td>javascript|asp.net|button|postback</td>\n",
       "    </tr>\n",
       "    <tr>\n",
       "      <th>1</th>\n",
       "      <td>39235940</td>\n",
       "      <td>39235940</td>\n",
       "      <td>How do I keep my input fields on one line whil...</td>\n",
       "      <td>39285877.0</td>\n",
       "      <td>10</td>\n",
       "      <td>NaN</td>\n",
       "      <td>html|css|block|inline|display</td>\n",
       "    </tr>\n",
       "  </tbody>\n",
       "</table>\n",
       "</div>"
      ],
      "text/plain": [
       "   answer_parent_id  question_id  \\\n",
       "0          14058116     14058116   \n",
       "1          39235940     39235940   \n",
       "\n",
       "                                       question_tile  accepted_answer_id  \\\n",
       "0      Confirm postback OnClientClick button ASP.NET          14058202.0   \n",
       "1  How do I keep my input fields on one line whil...          39285877.0   \n",
       "\n",
       "   answer_count  question_owner_id                       question_tags  \n",
       "0            10          1918542.0  javascript|asp.net|button|postback  \n",
       "1            10                NaN       html|css|block|inline|display  "
      ]
     },
     "execution_count": 7,
     "metadata": {},
     "output_type": "execute_result"
    }
   ],
   "source": [
    "# Preview Question Data\n",
    "df_questions.head(2)"
   ]
  },
  {
   "cell_type": "code",
   "execution_count": 8,
   "metadata": {},
   "outputs": [],
   "source": [
    "# Preview User Data\n",
    "# print(df_user.dtypes)\n",
    "# df_user.head(2)"
   ]
  },
  {
   "cell_type": "code",
   "execution_count": 9,
   "metadata": {},
   "outputs": [],
   "source": [
    "# clean_text(df_questions, ['question_tile'])  #, 'question_body'"
   ]
  },
  {
   "cell_type": "markdown",
   "metadata": {},
   "source": [
    "## Temporarily Drop Cols"
   ]
  },
  {
   "cell_type": "code",
   "execution_count": 12,
   "metadata": {},
   "outputs": [
    {
     "data": {
      "text/html": [
       "<div>\n",
       "<style scoped>\n",
       "    .dataframe tbody tr th:only-of-type {\n",
       "        vertical-align: middle;\n",
       "    }\n",
       "\n",
       "    .dataframe tbody tr th {\n",
       "        vertical-align: top;\n",
       "    }\n",
       "\n",
       "    .dataframe thead th {\n",
       "        text-align: right;\n",
       "    }\n",
       "</style>\n",
       "<table border=\"1\" class=\"dataframe\">\n",
       "  <thead>\n",
       "    <tr style=\"text-align: right;\">\n",
       "      <th></th>\n",
       "      <th>randkey</th>\n",
       "      <th>answer_id</th>\n",
       "      <th>answer_comments</th>\n",
       "      <th>answer_creation_date</th>\n",
       "      <th>answer_owner_id</th>\n",
       "      <th>answer_parent_id</th>\n",
       "      <th>answer_post_type_id</th>\n",
       "      <th>answer_score</th>\n",
       "    </tr>\n",
       "  </thead>\n",
       "  <tbody>\n",
       "    <tr>\n",
       "      <th>0</th>\n",
       "      <td>0.18</td>\n",
       "      <td>8108420</td>\n",
       "      <td>0</td>\n",
       "      <td>2011-11-12 23:40:39.303 UTC</td>\n",
       "      <td>614425</td>\n",
       "      <td>8108346</td>\n",
       "      <td>2</td>\n",
       "      <td>1</td>\n",
       "    </tr>\n",
       "    <tr>\n",
       "      <th>1</th>\n",
       "      <td>0.17</td>\n",
       "      <td>2248279</td>\n",
       "      <td>1</td>\n",
       "      <td>2010-02-11 22:32:24.32 UTC</td>\n",
       "      <td>14934</td>\n",
       "      <td>1576197</td>\n",
       "      <td>2</td>\n",
       "      <td>17</td>\n",
       "    </tr>\n",
       "  </tbody>\n",
       "</table>\n",
       "</div>"
      ],
      "text/plain": [
       "   randkey answer_id answer_comments         answer_creation_date  \\\n",
       "0     0.18   8108420               0  2011-11-12 23:40:39.303 UTC   \n",
       "1     0.17   2248279               1   2010-02-11 22:32:24.32 UTC   \n",
       "\n",
       "  answer_owner_id answer_parent_id answer_post_type_id answer_score  \n",
       "0          614425          8108346                   2            1  \n",
       "1           14934          1576197                   2           17  "
      ]
     },
     "execution_count": 12,
     "metadata": {},
     "output_type": "execute_result"
    }
   ],
   "source": [
    "\n",
    "df.drop('answer_body', axis=1, inplace=True)\n",
    "df.head(2)"
   ]
  },
  {
   "cell_type": "code",
   "execution_count": 15,
   "metadata": {},
   "outputs": [
    {
     "data": {
      "text/html": [
       "<div>\n",
       "<style scoped>\n",
       "    .dataframe tbody tr th:only-of-type {\n",
       "        vertical-align: middle;\n",
       "    }\n",
       "\n",
       "    .dataframe tbody tr th {\n",
       "        vertical-align: top;\n",
       "    }\n",
       "\n",
       "    .dataframe thead th {\n",
       "        text-align: right;\n",
       "    }\n",
       "</style>\n",
       "<table border=\"1\" class=\"dataframe\">\n",
       "  <thead>\n",
       "    <tr style=\"text-align: right;\">\n",
       "      <th></th>\n",
       "      <th>answer_parent_id</th>\n",
       "      <th>question_id</th>\n",
       "      <th>accepted_answer_id</th>\n",
       "      <th>answer_count</th>\n",
       "      <th>question_owner_id</th>\n",
       "      <th>question_tags</th>\n",
       "    </tr>\n",
       "  </thead>\n",
       "  <tbody>\n",
       "    <tr>\n",
       "      <th>0</th>\n",
       "      <td>14058116</td>\n",
       "      <td>14058116</td>\n",
       "      <td>14058202.0</td>\n",
       "      <td>10</td>\n",
       "      <td>1918542.0</td>\n",
       "      <td>javascript|asp.net|button|postback</td>\n",
       "    </tr>\n",
       "    <tr>\n",
       "      <th>1</th>\n",
       "      <td>39235940</td>\n",
       "      <td>39235940</td>\n",
       "      <td>39285877.0</td>\n",
       "      <td>10</td>\n",
       "      <td>NaN</td>\n",
       "      <td>html|css|block|inline|display</td>\n",
       "    </tr>\n",
       "  </tbody>\n",
       "</table>\n",
       "</div>"
      ],
      "text/plain": [
       "   answer_parent_id  question_id  accepted_answer_id  answer_count  \\\n",
       "0          14058116     14058116          14058202.0            10   \n",
       "1          39235940     39235940          39285877.0            10   \n",
       "\n",
       "   question_owner_id                       question_tags  \n",
       "0          1918542.0  javascript|asp.net|button|postback  \n",
       "1                NaN       html|css|block|inline|display  "
      ]
     },
     "execution_count": 15,
     "metadata": {},
     "output_type": "execute_result"
    }
   ],
   "source": [
    "df_questions.drop('question_tile', axis=1, inplace=True)\n",
    "df_questions.head(2)"
   ]
  },
  {
   "cell_type": "markdown",
   "metadata": {},
   "source": [
    "## Merge Datasets"
   ]
  },
  {
   "cell_type": "code",
   "execution_count": 16,
   "metadata": {
    "scrolled": false
   },
   "outputs": [],
   "source": [
    "# answers = pd.merge(df_bq, df_user, on='user_id', how='left')\n",
    "# answers.head()"
   ]
  },
  {
   "cell_type": "markdown",
   "metadata": {},
   "source": [
    "## Create a 2D Matrix"
   ]
  },
  {
   "cell_type": "code",
   "execution_count": 19,
   "metadata": {},
   "outputs": [],
   "source": [
    "# user_pivot = df.pivot(index='answer_owner_id', columns='answer_parent_id', values='answer_score').fillna(0)"
   ]
  },
  {
   "cell_type": "code",
   "execution_count": 31,
   "metadata": {},
   "outputs": [
    {
     "name": "stdout",
     "output_type": "stream",
     "text": [
      "  answer_id answer_owner_id answer_parent_id answer_score\n",
      "0   8108420          614425          8108346            1\n",
      "1   2248279           14934          1576197           17\n"
     ]
    }
   ],
   "source": [
    "df_ans = df[['answer_id', 'answer_owner_id', 'answer_parent_id', 'answer_score']].copy().head(50000)\n",
    "print(df_ans.head(2))\n",
    "\n",
    "# The question id we already have so ignoring for now...\n",
    "# df_ques = df_questions[['answer_parent_id', 'question_id']]\n",
    "# print(df_ques.head(2))"
   ]
  },
  {
   "cell_type": "code",
   "execution_count": 32,
   "metadata": {},
   "outputs": [
    {
     "data": {
      "text/plain": [
       "(50000, 4)"
      ]
     },
     "execution_count": 32,
     "metadata": {},
     "output_type": "execute_result"
    }
   ],
   "source": [
    "df_ans.shape"
   ]
  },
  {
   "cell_type": "code",
   "execution_count": 33,
   "metadata": {},
   "outputs": [
    {
     "ename": "MemoryError",
     "evalue": "",
     "output_type": "error",
     "traceback": [
      "\u001b[0;31m---------------------------------------------------------------------------\u001b[0m",
      "\u001b[0;31mMemoryError\u001b[0m                               Traceback (most recent call last)",
      "\u001b[0;32m<ipython-input-33-3012d4db269a>\u001b[0m in \u001b[0;36m<module>\u001b[0;34m()\u001b[0m\n\u001b[0;32m----> 1\u001b[0;31m \u001b[0mdf_ans\u001b[0m\u001b[0;34m.\u001b[0m\u001b[0mpivot\u001b[0m\u001b[0;34m(\u001b[0m\u001b[0mindex\u001b[0m\u001b[0;34m=\u001b[0m\u001b[0;34m'answer_parent_id'\u001b[0m\u001b[0;34m,\u001b[0m \u001b[0mcolumns\u001b[0m\u001b[0;34m=\u001b[0m\u001b[0;34m\"answer_owner_id\"\u001b[0m\u001b[0;34m,\u001b[0m \u001b[0mvalues\u001b[0m\u001b[0;34m=\u001b[0m\u001b[0;34m\"answer_score\"\u001b[0m\u001b[0;34m)\u001b[0m\u001b[0;34m\u001b[0m\u001b[0m\n\u001b[0m",
      "\u001b[0;32m~/anaconda3/lib/python3.6/site-packages/pandas/core/frame.py\u001b[0m in \u001b[0;36mpivot\u001b[0;34m(self, index, columns, values)\u001b[0m\n\u001b[1;32m   4380\u001b[0m         \"\"\"\n\u001b[1;32m   4381\u001b[0m         \u001b[0;32mfrom\u001b[0m \u001b[0mpandas\u001b[0m\u001b[0;34m.\u001b[0m\u001b[0mcore\u001b[0m\u001b[0;34m.\u001b[0m\u001b[0mreshape\u001b[0m\u001b[0;34m.\u001b[0m\u001b[0mreshape\u001b[0m \u001b[0;32mimport\u001b[0m \u001b[0mpivot\u001b[0m\u001b[0;34m\u001b[0m\u001b[0m\n\u001b[0;32m-> 4382\u001b[0;31m         \u001b[0;32mreturn\u001b[0m \u001b[0mpivot\u001b[0m\u001b[0;34m(\u001b[0m\u001b[0mself\u001b[0m\u001b[0;34m,\u001b[0m \u001b[0mindex\u001b[0m\u001b[0;34m=\u001b[0m\u001b[0mindex\u001b[0m\u001b[0;34m,\u001b[0m \u001b[0mcolumns\u001b[0m\u001b[0;34m=\u001b[0m\u001b[0mcolumns\u001b[0m\u001b[0;34m,\u001b[0m \u001b[0mvalues\u001b[0m\u001b[0;34m=\u001b[0m\u001b[0mvalues\u001b[0m\u001b[0;34m)\u001b[0m\u001b[0;34m\u001b[0m\u001b[0m\n\u001b[0m\u001b[1;32m   4383\u001b[0m \u001b[0;34m\u001b[0m\u001b[0m\n\u001b[1;32m   4384\u001b[0m     _shared_docs['pivot_table'] = \"\"\"\n",
      "\u001b[0;32m~/anaconda3/lib/python3.6/site-packages/pandas/core/reshape/reshape.py\u001b[0m in \u001b[0;36mpivot\u001b[0;34m(self, index, columns, values)\u001b[0m\n\u001b[1;32m    387\u001b[0m         indexed = Series(self[values].values,\n\u001b[1;32m    388\u001b[0m                          index=MultiIndex.from_arrays([index, self[columns]]))\n\u001b[0;32m--> 389\u001b[0;31m         \u001b[0;32mreturn\u001b[0m \u001b[0mindexed\u001b[0m\u001b[0;34m.\u001b[0m\u001b[0munstack\u001b[0m\u001b[0;34m(\u001b[0m\u001b[0mcolumns\u001b[0m\u001b[0;34m)\u001b[0m\u001b[0;34m\u001b[0m\u001b[0m\n\u001b[0m\u001b[1;32m    390\u001b[0m \u001b[0;34m\u001b[0m\u001b[0m\n\u001b[1;32m    391\u001b[0m \u001b[0;34m\u001b[0m\u001b[0m\n",
      "\u001b[0;32m~/anaconda3/lib/python3.6/site-packages/pandas/core/series.py\u001b[0m in \u001b[0;36munstack\u001b[0;34m(self, level, fill_value)\u001b[0m\n\u001b[1;32m   2222\u001b[0m         \"\"\"\n\u001b[1;32m   2223\u001b[0m         \u001b[0;32mfrom\u001b[0m \u001b[0mpandas\u001b[0m\u001b[0;34m.\u001b[0m\u001b[0mcore\u001b[0m\u001b[0;34m.\u001b[0m\u001b[0mreshape\u001b[0m\u001b[0;34m.\u001b[0m\u001b[0mreshape\u001b[0m \u001b[0;32mimport\u001b[0m \u001b[0munstack\u001b[0m\u001b[0;34m\u001b[0m\u001b[0m\n\u001b[0;32m-> 2224\u001b[0;31m         \u001b[0;32mreturn\u001b[0m \u001b[0munstack\u001b[0m\u001b[0;34m(\u001b[0m\u001b[0mself\u001b[0m\u001b[0;34m,\u001b[0m \u001b[0mlevel\u001b[0m\u001b[0;34m,\u001b[0m \u001b[0mfill_value\u001b[0m\u001b[0;34m)\u001b[0m\u001b[0;34m\u001b[0m\u001b[0m\n\u001b[0m\u001b[1;32m   2225\u001b[0m \u001b[0;34m\u001b[0m\u001b[0m\n\u001b[1;32m   2226\u001b[0m     \u001b[0;31m# ----------------------------------------------------------------------\u001b[0m\u001b[0;34m\u001b[0m\u001b[0;34m\u001b[0m\u001b[0m\n",
      "\u001b[0;32m~/anaconda3/lib/python3.6/site-packages/pandas/core/reshape/reshape.py\u001b[0m in \u001b[0;36munstack\u001b[0;34m(obj, level, fill_value)\u001b[0m\n\u001b[1;32m    473\u001b[0m         unstacker = _Unstacker(obj.values, obj.index, level=level,\n\u001b[1;32m    474\u001b[0m                                fill_value=fill_value)\n\u001b[0;32m--> 475\u001b[0;31m         \u001b[0;32mreturn\u001b[0m \u001b[0munstacker\u001b[0m\u001b[0;34m.\u001b[0m\u001b[0mget_result\u001b[0m\u001b[0;34m(\u001b[0m\u001b[0;34m)\u001b[0m\u001b[0;34m\u001b[0m\u001b[0m\n\u001b[0m\u001b[1;32m    476\u001b[0m \u001b[0;34m\u001b[0m\u001b[0m\n\u001b[1;32m    477\u001b[0m \u001b[0;34m\u001b[0m\u001b[0m\n",
      "\u001b[0;32m~/anaconda3/lib/python3.6/site-packages/pandas/core/reshape/reshape.py\u001b[0m in \u001b[0;36mget_result\u001b[0;34m(self)\u001b[0m\n\u001b[1;32m    163\u001b[0m         \u001b[0;31m# TODO: find a better way than this masking business\u001b[0m\u001b[0;34m\u001b[0m\u001b[0;34m\u001b[0m\u001b[0m\n\u001b[1;32m    164\u001b[0m \u001b[0;34m\u001b[0m\u001b[0m\n\u001b[0;32m--> 165\u001b[0;31m         \u001b[0mvalues\u001b[0m\u001b[0;34m,\u001b[0m \u001b[0mvalue_mask\u001b[0m \u001b[0;34m=\u001b[0m \u001b[0mself\u001b[0m\u001b[0;34m.\u001b[0m\u001b[0mget_new_values\u001b[0m\u001b[0;34m(\u001b[0m\u001b[0;34m)\u001b[0m\u001b[0;34m\u001b[0m\u001b[0m\n\u001b[0m\u001b[1;32m    166\u001b[0m         \u001b[0mcolumns\u001b[0m \u001b[0;34m=\u001b[0m \u001b[0mself\u001b[0m\u001b[0;34m.\u001b[0m\u001b[0mget_new_columns\u001b[0m\u001b[0;34m(\u001b[0m\u001b[0;34m)\u001b[0m\u001b[0;34m\u001b[0m\u001b[0m\n\u001b[1;32m    167\u001b[0m         \u001b[0mindex\u001b[0m \u001b[0;34m=\u001b[0m \u001b[0mself\u001b[0m\u001b[0;34m.\u001b[0m\u001b[0mget_new_index\u001b[0m\u001b[0;34m(\u001b[0m\u001b[0;34m)\u001b[0m\u001b[0;34m\u001b[0m\u001b[0m\n",
      "\u001b[0;32m~/anaconda3/lib/python3.6/site-packages/pandas/core/reshape/reshape.py\u001b[0m in \u001b[0;36mget_new_values\u001b[0;34m(self)\u001b[0m\n\u001b[1;32m    214\u001b[0m         \u001b[0;32melse\u001b[0m\u001b[0;34m:\u001b[0m\u001b[0;34m\u001b[0m\u001b[0m\n\u001b[1;32m    215\u001b[0m             \u001b[0mdtype\u001b[0m\u001b[0;34m,\u001b[0m \u001b[0mfill_value\u001b[0m \u001b[0;34m=\u001b[0m \u001b[0mmaybe_promote\u001b[0m\u001b[0;34m(\u001b[0m\u001b[0mvalues\u001b[0m\u001b[0;34m.\u001b[0m\u001b[0mdtype\u001b[0m\u001b[0;34m,\u001b[0m \u001b[0mself\u001b[0m\u001b[0;34m.\u001b[0m\u001b[0mfill_value\u001b[0m\u001b[0;34m)\u001b[0m\u001b[0;34m\u001b[0m\u001b[0m\n\u001b[0;32m--> 216\u001b[0;31m             \u001b[0mnew_values\u001b[0m \u001b[0;34m=\u001b[0m \u001b[0mnp\u001b[0m\u001b[0;34m.\u001b[0m\u001b[0mempty\u001b[0m\u001b[0;34m(\u001b[0m\u001b[0mresult_shape\u001b[0m\u001b[0;34m,\u001b[0m \u001b[0mdtype\u001b[0m\u001b[0;34m=\u001b[0m\u001b[0mdtype\u001b[0m\u001b[0;34m)\u001b[0m\u001b[0;34m\u001b[0m\u001b[0m\n\u001b[0m\u001b[1;32m    217\u001b[0m             \u001b[0mnew_values\u001b[0m\u001b[0;34m.\u001b[0m\u001b[0mfill\u001b[0m\u001b[0;34m(\u001b[0m\u001b[0mfill_value\u001b[0m\u001b[0;34m)\u001b[0m\u001b[0;34m\u001b[0m\u001b[0m\n\u001b[1;32m    218\u001b[0m \u001b[0;34m\u001b[0m\u001b[0m\n",
      "\u001b[0;31mMemoryError\u001b[0m: "
     ]
    }
   ],
   "source": [
    "df_ans.pivot(index='answer_parent_id', columns=\"answer_owner_id\", values=\"answer_score\")\n"
   ]
  },
  {
   "cell_type": "code",
   "execution_count": null,
   "metadata": {},
   "outputs": [],
   "source": []
  }
 ],
 "metadata": {
  "kernelspec": {
   "display_name": "Python 3",
   "language": "python",
   "name": "python3"
  },
  "language_info": {
   "codemirror_mode": {
    "name": "ipython",
    "version": 3
   },
   "file_extension": ".py",
   "mimetype": "text/x-python",
   "name": "python",
   "nbconvert_exporter": "python",
   "pygments_lexer": "ipython3",
   "version": "3.6.4"
  },
  "toc": {
   "base_numbering": 1,
   "nav_menu": {},
   "number_sections": true,
   "sideBar": true,
   "skip_h1_title": false,
   "title_cell": "Table of Contents",
   "title_sidebar": "Contents",
   "toc_cell": false,
   "toc_position": {},
   "toc_section_display": true,
   "toc_window_display": true
  }
 },
 "nbformat": 4,
 "nbformat_minor": 2
}
